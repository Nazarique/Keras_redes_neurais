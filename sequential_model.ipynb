{
  "nbformat": 4,
  "nbformat_minor": 0,
  "metadata": {
    "colab": {
      "name": "Cópia de sequential_model.ipynb",
      "provenance": [],
      "collapsed_sections": [],
      "include_colab_link": true
    },
    "kernelspec": {
      "display_name": "Python 3",
      "name": "python3"
    }
  },
  "cells": [
    {
      "cell_type": "markdown",
      "metadata": {
        "id": "view-in-github",
        "colab_type": "text"
      },
      "source": [
        "<a href=\"https://colab.research.google.com/github/Nazarique/Keras_redes_neurais/blob/main/sequential_model.ipynb\" target=\"_parent\"><img src=\"https://colab.research.google.com/assets/colab-badge.svg\" alt=\"Open In Colab\"/></a>"
      ]
    },
    {
      "cell_type": "code",
      "metadata": {
        "id": "r32x6E6HH_la"
      },
      "source": [
        "pip install tensorflow"
      ],
      "execution_count": null,
      "outputs": []
    },
    {
      "cell_type": "code",
      "metadata": {
        "id": "GKlffBBLH-d2"
      },
      "source": [
        "from keras.models import Sequential\r\n",
        "from keras.layers import Dense\r\n",
        "from keras.optimizers import SGD, Adam\r\n",
        "\r\n",
        "import pandas as pd\r\n",
        "import numpy as np\r\n",
        "import matplotlib.pyplot as plt\r\n",
        "\r\n",
        "from sklearn.metrics import classification_report, confusion_matrix\r\n"
      ],
      "execution_count": null,
      "outputs": []
    },
    {
      "cell_type": "code",
      "metadata": {
        "id": "5AU9grDDfdak"
      },
      "source": [
        "def norm(x, lim_sup=1, lim_inf=-1):\r\n",
        "  return lim_inf + (x - x.min(axis=0))*(lim_sup-lim_inf) / (x.max(axis=0) - x.min(axis=0))"
      ],
      "execution_count": null,
      "outputs": []
    },
    {
      "cell_type": "code",
      "metadata": {
        "id": "-fe9lmXJIq6a"
      },
      "source": [
        "class MultiColumnLabelEncoder:\r\n",
        "    def __init__(self,columns = None):\r\n",
        "        self.columns = columns # array of column names to encode\r\n",
        "\r\n",
        "    def fit(self,X,y=None):\r\n",
        "        return self # not relevant here\r\n",
        "\r\n",
        "    def transform(self,X):\r\n",
        "        '''\r\n",
        "        Transforms columns of X specified in self.columns using\r\n",
        "        LabelEncoder(). If no columns specified, transforms all\r\n",
        "        columns in X.\r\n",
        "        '''\r\n",
        "        output = X.copy()\r\n",
        "        if self.columns is not None:\r\n",
        "            for col in self.columns:\r\n",
        "                output[col] = LabelEncoder().fit_transform(output[col])\r\n",
        "        else:\r\n",
        "            for colname,col in output.iteritems():\r\n",
        "                output[colname] = LabelEncoder().fit_transform(col)\r\n",
        "        return output\r\n",
        "\r\n",
        "    def fit_transform(self,X,y=None):\r\n",
        "        return self.fit(X,y).transform(X)"
      ],
      "execution_count": null,
      "outputs": []
    },
    {
      "cell_type": "code",
      "metadata": {
        "id": "-k0LiPujH9HP"
      },
      "source": [
        "class MLP(object):\r\n",
        "\r\n",
        "    def __init__(self, optimizer, *args, **kwargs):\r\n",
        "        \r\n",
        "        self.shape = args\r\n",
        "        self.neuron = len(args)\r\n",
        "        options = {\r\n",
        "            'hidden_activation' : 'relu',\r\n",
        "            'out_activation'    : 'softmax'\r\n",
        "            }\r\n",
        "\r\n",
        "        options.update(kwargs)\r\n",
        "        self.inputDim = args[0]\r\n",
        "        self.hidden_activation = options['hidden_activation']\r\n",
        "        self.out_activation= options['out_activation']\r\n",
        "        self.optimizer = optimizer\r\n",
        "\r\n",
        "        self.build_model()\r\n",
        "    \r\n",
        "    def build_model(self):\r\n",
        "      self.model = Sequential()\r\n",
        "      # self.model.add(Dense(10, input_shape=(4,), activation='relu', name='fc1'))\r\n",
        "      # self.model.add(Dense(10, activation='relu', name='fc2'))\r\n",
        "      # self.model.add(Dense(3, activation='softmax', name='output'))\r\n",
        "      for i in range(1, self.neuron):\r\n",
        "\r\n",
        "        name = str(i)\r\n",
        "        if i == 1:\r\n",
        "          self.model.add(Dense(self.shape[i], name=name, input_shape=(self.shape[0],), activation = self.hidden_activation))\r\n",
        "\t\t\t\t\t\t# contruindo a camada de entrada, juntamente com os neuronios da camada escondida\r\n",
        "        elif i == (self.neuron-1):\r\n",
        "            self.model.add(Dense(self.shape[i], name='out_layer',activation = self.out_activation))\r\n",
        "\t\t\t\t\t\t# construindo a camada de saida\r\n",
        "        else:\r\n",
        "            self.model.add(Dense(self.shape[i], name=name, activation = self.hidden_activation))\r\n",
        "            # contruindo camada escondidas. caso o modelo contenha mais de uma camada escondida \r\n",
        "                                              \r\n",
        "      self.model.compile(optimizer=self.optimizer, loss='mean_squared_error', metrics=['accuracy']) \r\n",
        "\r\n",
        "      print('Neural Network Model Summary: ')\r\n",
        "      print(self.model.summary())\r\n",
        "\r\n",
        "    def train_model(self, trainX, trainY, valX=None, valY=None, epoch=100, batchSize=5, verbose=1):\r\n",
        "      \r\n",
        "      if valX==None or valY==None:\r\n",
        "        validation_data=None\r\n",
        "      else:\r\n",
        "        validation_data = (valX, valY)\r\n",
        "\r\n",
        "      self.history = self.model.fit(trainX, trainY, epochs=epoch, validation_data = validation_data, \r\n",
        "                                    validation_split=0.2, batch_size=batchSize, verbose=verbose)\r\n",
        "      \r\n",
        "    def test_model(self, testX, testY):\r\n",
        "      \r\n",
        "      self.score = self.model.evaluate(testX, testY, verbose=1)"
      ],
      "execution_count": null,
      "outputs": []
    },
    {
      "cell_type": "markdown",
      "metadata": {
        "id": "-va1wcmrP3Of"
      },
      "source": [
        "# Iris"
      ]
    },
    {
      "cell_type": "code",
      "metadata": {
        "id": "mse1n6YoIhPF"
      },
      "source": [
        "import numpy as np\r\n",
        "\r\n",
        "from sklearn.datasets import load_iris\r\n",
        "from sklearn.model_selection import train_test_split\r\n",
        "from sklearn.preprocessing import OneHotEncoder\r\n",
        "\r\n",
        "iris_data = load_iris() # load the iris dataset\r\n",
        "\r\n",
        "x = iris_data.data\r\n",
        "\r\n",
        "x = norm(x)\r\n",
        "y = iris_data.target.reshape(-1, 1) # Convert data to a single column\r\n",
        "\r\n",
        "# One Hot encode the class labels\r\n",
        "encoder = OneHotEncoder(sparse=False)\r\n",
        "y = encoder.fit_transform(y)\r\n",
        "\r\n",
        "# Split the data for training and testing\r\n",
        "train_x, test_x, train_y, test_y = train_test_split(x, y, test_size=0.20)\r\n",
        "\r\n",
        "print('Example data: ')\r\n",
        "print(train_x[:5])\r\n",
        "print('\\nExample labels: ')\r\n",
        "print(train_y[:5])"
      ],
      "execution_count": null,
      "outputs": []
    },
    {
      "cell_type": "code",
      "metadata": {
        "colab": {
          "base_uri": "https://localhost:8080/"
        },
        "id": "y8-6lx_PmDN-",
        "outputId": "2a3b2390-9c41-43d4-9f43-a462495def63"
      },
      "source": [
        "# creating an classifier from the model:\r\n",
        "optimizer = SGD(learning_rate=0.01, momentum=0.9)\r\n",
        "# optimizer =  Adam(lr=0.001)\r\n",
        "\r\n",
        "mlp = MLP(optimizer, 4, 10, 10, 3)\r\n",
        "mlp.train_model( train_x,  train_y, epoch=200, batchSize=5, verbose=0)\r\n",
        "mlp.test_model(test_x, test_y)"
      ],
      "execution_count": null,
      "outputs": [
        {
          "output_type": "stream",
          "text": [
            "Neural Network Model Summary: \n",
            "Model: \"sequential_7\"\n",
            "_________________________________________________________________\n",
            "Layer (type)                 Output Shape              Param #   \n",
            "=================================================================\n",
            "1 (Dense)                    (None, 10)                50        \n",
            "_________________________________________________________________\n",
            "2 (Dense)                    (None, 10)                110       \n",
            "_________________________________________________________________\n",
            "out_layer (Dense)            (None, 3)                 33        \n",
            "=================================================================\n",
            "Total params: 193\n",
            "Trainable params: 193\n",
            "Non-trainable params: 0\n",
            "_________________________________________________________________\n",
            "None\n",
            "1/1 [==============================] - 0s 1ms/step - loss: 0.0171 - accuracy: 0.9667\n"
          ],
          "name": "stdout"
        }
      ]
    },
    {
      "cell_type": "markdown",
      "metadata": {
        "id": "OjWeqyIf-atl"
      },
      "source": [
        "# bank"
      ]
    },
    {
      "cell_type": "code",
      "metadata": {
        "colab": {
          "base_uri": "https://localhost:8080/",
          "height": 193
        },
        "id": "JAMa36ER-dKe",
        "outputId": "c535cfcb-9dd3-4bf2-b73f-29119d17954d"
      },
      "source": [
        "df = pd.read_csv('/content/bank-additional-full.csv', delimiter =';')\r\n",
        "df.head(4)"
      ],
      "execution_count": null,
      "outputs": [
        {
          "output_type": "execute_result",
          "data": {
            "text/html": [
              "<div>\n",
              "<style scoped>\n",
              "    .dataframe tbody tr th:only-of-type {\n",
              "        vertical-align: middle;\n",
              "    }\n",
              "\n",
              "    .dataframe tbody tr th {\n",
              "        vertical-align: top;\n",
              "    }\n",
              "\n",
              "    .dataframe thead th {\n",
              "        text-align: right;\n",
              "    }\n",
              "</style>\n",
              "<table border=\"1\" class=\"dataframe\">\n",
              "  <thead>\n",
              "    <tr style=\"text-align: right;\">\n",
              "      <th></th>\n",
              "      <th>age</th>\n",
              "      <th>job</th>\n",
              "      <th>marital</th>\n",
              "      <th>education</th>\n",
              "      <th>default</th>\n",
              "      <th>housing</th>\n",
              "      <th>loan</th>\n",
              "      <th>contact</th>\n",
              "      <th>month</th>\n",
              "      <th>day_of_week</th>\n",
              "      <th>duration</th>\n",
              "      <th>campaign</th>\n",
              "      <th>pdays</th>\n",
              "      <th>previous</th>\n",
              "      <th>poutcome</th>\n",
              "      <th>emp.var.rate</th>\n",
              "      <th>cons.price.idx</th>\n",
              "      <th>cons.conf.idx</th>\n",
              "      <th>euribor3m</th>\n",
              "      <th>nr.employed</th>\n",
              "      <th>y</th>\n",
              "    </tr>\n",
              "  </thead>\n",
              "  <tbody>\n",
              "    <tr>\n",
              "      <th>0</th>\n",
              "      <td>56</td>\n",
              "      <td>housemaid</td>\n",
              "      <td>married</td>\n",
              "      <td>basic.4y</td>\n",
              "      <td>no</td>\n",
              "      <td>no</td>\n",
              "      <td>no</td>\n",
              "      <td>telephone</td>\n",
              "      <td>may</td>\n",
              "      <td>mon</td>\n",
              "      <td>261</td>\n",
              "      <td>1</td>\n",
              "      <td>999</td>\n",
              "      <td>0</td>\n",
              "      <td>nonexistent</td>\n",
              "      <td>1.1</td>\n",
              "      <td>93.994</td>\n",
              "      <td>-36.4</td>\n",
              "      <td>4.857</td>\n",
              "      <td>5191.0</td>\n",
              "      <td>no</td>\n",
              "    </tr>\n",
              "    <tr>\n",
              "      <th>1</th>\n",
              "      <td>57</td>\n",
              "      <td>services</td>\n",
              "      <td>married</td>\n",
              "      <td>high.school</td>\n",
              "      <td>unknown</td>\n",
              "      <td>no</td>\n",
              "      <td>no</td>\n",
              "      <td>telephone</td>\n",
              "      <td>may</td>\n",
              "      <td>mon</td>\n",
              "      <td>149</td>\n",
              "      <td>1</td>\n",
              "      <td>999</td>\n",
              "      <td>0</td>\n",
              "      <td>nonexistent</td>\n",
              "      <td>1.1</td>\n",
              "      <td>93.994</td>\n",
              "      <td>-36.4</td>\n",
              "      <td>4.857</td>\n",
              "      <td>5191.0</td>\n",
              "      <td>no</td>\n",
              "    </tr>\n",
              "    <tr>\n",
              "      <th>2</th>\n",
              "      <td>37</td>\n",
              "      <td>services</td>\n",
              "      <td>married</td>\n",
              "      <td>high.school</td>\n",
              "      <td>no</td>\n",
              "      <td>yes</td>\n",
              "      <td>no</td>\n",
              "      <td>telephone</td>\n",
              "      <td>may</td>\n",
              "      <td>mon</td>\n",
              "      <td>226</td>\n",
              "      <td>1</td>\n",
              "      <td>999</td>\n",
              "      <td>0</td>\n",
              "      <td>nonexistent</td>\n",
              "      <td>1.1</td>\n",
              "      <td>93.994</td>\n",
              "      <td>-36.4</td>\n",
              "      <td>4.857</td>\n",
              "      <td>5191.0</td>\n",
              "      <td>no</td>\n",
              "    </tr>\n",
              "    <tr>\n",
              "      <th>3</th>\n",
              "      <td>40</td>\n",
              "      <td>admin.</td>\n",
              "      <td>married</td>\n",
              "      <td>basic.6y</td>\n",
              "      <td>no</td>\n",
              "      <td>no</td>\n",
              "      <td>no</td>\n",
              "      <td>telephone</td>\n",
              "      <td>may</td>\n",
              "      <td>mon</td>\n",
              "      <td>151</td>\n",
              "      <td>1</td>\n",
              "      <td>999</td>\n",
              "      <td>0</td>\n",
              "      <td>nonexistent</td>\n",
              "      <td>1.1</td>\n",
              "      <td>93.994</td>\n",
              "      <td>-36.4</td>\n",
              "      <td>4.857</td>\n",
              "      <td>5191.0</td>\n",
              "      <td>no</td>\n",
              "    </tr>\n",
              "  </tbody>\n",
              "</table>\n",
              "</div>"
            ],
            "text/plain": [
              "   age        job  marital  ... euribor3m nr.employed   y\n",
              "0   56  housemaid  married  ...     4.857      5191.0  no\n",
              "1   57   services  married  ...     4.857      5191.0  no\n",
              "2   37   services  married  ...     4.857      5191.0  no\n",
              "3   40     admin.  married  ...     4.857      5191.0  no\n",
              "\n",
              "[4 rows x 21 columns]"
            ]
          },
          "metadata": {
            "tags": []
          },
          "execution_count": 19
        }
      ]
    },
    {
      "cell_type": "code",
      "metadata": {
        "id": "e2HU-nz2BJTL"
      },
      "source": [
        "df = MultiColumnLabelEncoder(columns = ['job', 'marital', 'education', 'default', 'housing', 'loan',\r\n",
        "       'contact', 'month', 'day_of_week','poutcome', 'y']).fit_transform(df)"
      ],
      "execution_count": null,
      "outputs": []
    },
    {
      "cell_type": "code",
      "metadata": {
        "colab": {
          "base_uri": "https://localhost:8080/"
        },
        "id": "igPuIWwzKYXS",
        "outputId": "885868d0-4d96-4e9d-b0ba-9df6c11d3eac"
      },
      "source": [
        "x, y = df.iloc[:,0:-1], df.iloc[:,-1] \r\n",
        "\r\n",
        "y = np.array(y).reshape(-1, 1) # Convert data to a single column\r\n",
        "x = norm(np.array(x))\r\n",
        "# One Hot encode the class labels\r\n",
        "encoder = OneHotEncoder(sparse=False)\r\n",
        "y = encoder.fit_transform(y)\r\n",
        "#print(y)\r\n",
        "# Split the data for training and testing\r\n",
        "train_x, test_x, train_y, test_y = train_test_split(x, y, test_size=0.20)\r\n"
      ],
      "execution_count": null,
      "outputs": [
        {
          "output_type": "execute_result",
          "data": {
            "text/plain": [
              "2"
            ]
          },
          "metadata": {
            "tags": []
          },
          "execution_count": 95
        }
      ]
    },
    {
      "cell_type": "code",
      "metadata": {
        "colab": {
          "base_uri": "https://localhost:8080/"
        },
        "id": "dcGTJj5ZL3zO",
        "outputId": "da987c98-9b11-492a-8184-9af8689ccf00"
      },
      "source": [
        "# creating an classifier from the model:\r\n",
        "optimizer = SGD(learning_rate=0.01, momentum=0.9)\r\n",
        "# optimizer =  Adam(lr=0.001)\r\n",
        "\r\n",
        "mlp = MLP(optimizer, 20, 10, 10, 2)\r\n",
        "mlp.train_model( train_x,  train_y, epoch=200, batchSize=5, verbose=0)\r\n",
        "mlp.test_model(test_x, test_y)"
      ],
      "execution_count": null,
      "outputs": [
        {
          "output_type": "stream",
          "text": [
            "Neural Network Model Summary: \n",
            "Model: \"sequential_8\"\n",
            "_________________________________________________________________\n",
            "Layer (type)                 Output Shape              Param #   \n",
            "=================================================================\n",
            "1 (Dense)                    (None, 10)                210       \n",
            "_________________________________________________________________\n",
            "2 (Dense)                    (None, 10)                110       \n",
            "_________________________________________________________________\n",
            "out_layer (Dense)            (None, 2)                 22        \n",
            "=================================================================\n",
            "Total params: 342\n",
            "Trainable params: 342\n",
            "Non-trainable params: 0\n",
            "_________________________________________________________________\n",
            "None\n",
            "258/258 [==============================] - 0s 1ms/step - loss: 0.0579 - accuracy: 0.9145\n"
          ],
          "name": "stdout"
        }
      ]
    },
    {
      "cell_type": "markdown",
      "metadata": {
        "id": "0NMHYUl7Pn1l"
      },
      "source": [
        "# wine"
      ]
    },
    {
      "cell_type": "code",
      "metadata": {
        "colab": {
          "base_uri": "https://localhost:8080/",
          "height": 207
        },
        "id": "D8AYSe-iRI2f",
        "outputId": "95aa304d-d29f-4d14-cd5f-3ece8446e78a"
      },
      "source": [
        "df = pd.read_csv('/content/winequality-white.csv', delimiter =';')\r\n",
        "df.head(4)"
      ],
      "execution_count": null,
      "outputs": [
        {
          "output_type": "execute_result",
          "data": {
            "text/html": [
              "<div>\n",
              "<style scoped>\n",
              "    .dataframe tbody tr th:only-of-type {\n",
              "        vertical-align: middle;\n",
              "    }\n",
              "\n",
              "    .dataframe tbody tr th {\n",
              "        vertical-align: top;\n",
              "    }\n",
              "\n",
              "    .dataframe thead th {\n",
              "        text-align: right;\n",
              "    }\n",
              "</style>\n",
              "<table border=\"1\" class=\"dataframe\">\n",
              "  <thead>\n",
              "    <tr style=\"text-align: right;\">\n",
              "      <th></th>\n",
              "      <th>fixed acidity</th>\n",
              "      <th>volatile acidity</th>\n",
              "      <th>citric acid</th>\n",
              "      <th>residual sugar</th>\n",
              "      <th>chlorides</th>\n",
              "      <th>free sulfur dioxide</th>\n",
              "      <th>total sulfur dioxide</th>\n",
              "      <th>density</th>\n",
              "      <th>pH</th>\n",
              "      <th>sulphates</th>\n",
              "      <th>alcohol</th>\n",
              "      <th>quality</th>\n",
              "    </tr>\n",
              "  </thead>\n",
              "  <tbody>\n",
              "    <tr>\n",
              "      <th>0</th>\n",
              "      <td>7.0</td>\n",
              "      <td>0.27</td>\n",
              "      <td>0.36</td>\n",
              "      <td>20.7</td>\n",
              "      <td>0.045</td>\n",
              "      <td>45.0</td>\n",
              "      <td>170.0</td>\n",
              "      <td>1.0010</td>\n",
              "      <td>3.00</td>\n",
              "      <td>0.45</td>\n",
              "      <td>8.8</td>\n",
              "      <td>6</td>\n",
              "    </tr>\n",
              "    <tr>\n",
              "      <th>1</th>\n",
              "      <td>6.3</td>\n",
              "      <td>0.30</td>\n",
              "      <td>0.34</td>\n",
              "      <td>1.6</td>\n",
              "      <td>0.049</td>\n",
              "      <td>14.0</td>\n",
              "      <td>132.0</td>\n",
              "      <td>0.9940</td>\n",
              "      <td>3.30</td>\n",
              "      <td>0.49</td>\n",
              "      <td>9.5</td>\n",
              "      <td>6</td>\n",
              "    </tr>\n",
              "    <tr>\n",
              "      <th>2</th>\n",
              "      <td>8.1</td>\n",
              "      <td>0.28</td>\n",
              "      <td>0.40</td>\n",
              "      <td>6.9</td>\n",
              "      <td>0.050</td>\n",
              "      <td>30.0</td>\n",
              "      <td>97.0</td>\n",
              "      <td>0.9951</td>\n",
              "      <td>3.26</td>\n",
              "      <td>0.44</td>\n",
              "      <td>10.1</td>\n",
              "      <td>6</td>\n",
              "    </tr>\n",
              "    <tr>\n",
              "      <th>3</th>\n",
              "      <td>7.2</td>\n",
              "      <td>0.23</td>\n",
              "      <td>0.32</td>\n",
              "      <td>8.5</td>\n",
              "      <td>0.058</td>\n",
              "      <td>47.0</td>\n",
              "      <td>186.0</td>\n",
              "      <td>0.9956</td>\n",
              "      <td>3.19</td>\n",
              "      <td>0.40</td>\n",
              "      <td>9.9</td>\n",
              "      <td>6</td>\n",
              "    </tr>\n",
              "  </tbody>\n",
              "</table>\n",
              "</div>"
            ],
            "text/plain": [
              "   fixed acidity  volatile acidity  citric acid  ...  sulphates  alcohol  quality\n",
              "0            7.0              0.27         0.36  ...       0.45      8.8        6\n",
              "1            6.3              0.30         0.34  ...       0.49      9.5        6\n",
              "2            8.1              0.28         0.40  ...       0.44     10.1        6\n",
              "3            7.2              0.23         0.32  ...       0.40      9.9        6\n",
              "\n",
              "[4 rows x 12 columns]"
            ]
          },
          "metadata": {
            "tags": []
          },
          "execution_count": 116
        }
      ]
    },
    {
      "cell_type": "code",
      "metadata": {
        "colab": {
          "base_uri": "https://localhost:8080/"
        },
        "id": "1vC_W0GeRgSZ",
        "outputId": "c08e8e99-a629-4220-85ba-0b28ab6af1d1"
      },
      "source": [
        "x, y = df.iloc[:,0:-1], df.iloc[:,-1] \r\n",
        "\r\n",
        "y = np.array(y).reshape(-1, 1) # Convert data to a single column\r\n",
        "x = norm(np.array(x))\r\n",
        "# One Hot encode the class labels\r\n",
        "encoder = OneHotEncoder(sparse=False)\r\n",
        "y = encoder.fit_transform(y)\r\n",
        "#print(y)\r\n",
        "# Split the data for training and testing\r\n",
        "train_x, test_x, train_y, test_y = train_test_split(x, y, test_size=0.20)\r\n",
        "len(test_y[0])"
      ],
      "execution_count": null,
      "outputs": [
        {
          "output_type": "execute_result",
          "data": {
            "text/plain": [
              "7"
            ]
          },
          "metadata": {
            "tags": []
          },
          "execution_count": 117
        }
      ]
    },
    {
      "cell_type": "code",
      "metadata": {
        "colab": {
          "base_uri": "https://localhost:8080/"
        },
        "id": "A9Vx0-PVR6_P",
        "outputId": "f4e3a19b-2fcf-48df-84a0-fbdefdc451fe"
      },
      "source": [
        "# creating an classifier from the model:\r\n",
        "# optimizer = SGD(learning_rate=0.01, momentum=0.9)\r\n",
        "optimizer =  Adam(lr=0.001)\r\n",
        "\r\n",
        "mlp = MLP(optimizer, len(test_x[0]), 100, 100, len(test_y[0]))\r\n",
        "mlp.train_model( train_x,  train_y, epoch=200, batchSize=5, verbose=0)\r\n",
        "mlp.test_model(test_x, test_y)"
      ],
      "execution_count": null,
      "outputs": [
        {
          "output_type": "stream",
          "text": [
            "Neural Network Model Summary: \n",
            "Model: \"sequential_12\"\n",
            "_________________________________________________________________\n",
            "Layer (type)                 Output Shape              Param #   \n",
            "=================================================================\n",
            "1 (Dense)                    (None, 100)               1200      \n",
            "_________________________________________________________________\n",
            "2 (Dense)                    (None, 100)               10100     \n",
            "_________________________________________________________________\n",
            "out_layer (Dense)            (None, 7)                 707       \n",
            "=================================================================\n",
            "Total params: 12,007\n",
            "Trainable params: 12,007\n",
            "Non-trainable params: 0\n",
            "_________________________________________________________________\n",
            "None\n",
            "31/31 [==============================] - 0s 1ms/step - loss: 0.0859 - accuracy: 0.6184\n"
          ],
          "name": "stdout"
        }
      ]
    },
    {
      "cell_type": "markdown",
      "metadata": {
        "id": "hIgV8j5_Tg3O"
      },
      "source": [
        "# Statlog"
      ]
    },
    {
      "cell_type": "code",
      "metadata": {
        "colab": {
          "base_uri": "https://localhost:8080/",
          "height": 173
        },
        "id": "CagUudJfTg3q",
        "outputId": "bae984ac-684b-478f-ba00-e2b600233f08"
      },
      "source": [
        "train = pd.read_csv('/content/shuttle.trn', delimiter =' ', header=None)\r\n",
        "train.head(4)"
      ],
      "execution_count": null,
      "outputs": [
        {
          "output_type": "execute_result",
          "data": {
            "text/html": [
              "<div>\n",
              "<style scoped>\n",
              "    .dataframe tbody tr th:only-of-type {\n",
              "        vertical-align: middle;\n",
              "    }\n",
              "\n",
              "    .dataframe tbody tr th {\n",
              "        vertical-align: top;\n",
              "    }\n",
              "\n",
              "    .dataframe thead th {\n",
              "        text-align: right;\n",
              "    }\n",
              "</style>\n",
              "<table border=\"1\" class=\"dataframe\">\n",
              "  <thead>\n",
              "    <tr style=\"text-align: right;\">\n",
              "      <th></th>\n",
              "      <th>0</th>\n",
              "      <th>1</th>\n",
              "      <th>2</th>\n",
              "      <th>3</th>\n",
              "      <th>4</th>\n",
              "      <th>5</th>\n",
              "      <th>6</th>\n",
              "      <th>7</th>\n",
              "      <th>8</th>\n",
              "      <th>9</th>\n",
              "    </tr>\n",
              "  </thead>\n",
              "  <tbody>\n",
              "    <tr>\n",
              "      <th>0</th>\n",
              "      <td>50</td>\n",
              "      <td>21</td>\n",
              "      <td>77</td>\n",
              "      <td>0</td>\n",
              "      <td>28</td>\n",
              "      <td>0</td>\n",
              "      <td>27</td>\n",
              "      <td>48</td>\n",
              "      <td>22</td>\n",
              "      <td>2</td>\n",
              "    </tr>\n",
              "    <tr>\n",
              "      <th>1</th>\n",
              "      <td>55</td>\n",
              "      <td>0</td>\n",
              "      <td>92</td>\n",
              "      <td>0</td>\n",
              "      <td>0</td>\n",
              "      <td>26</td>\n",
              "      <td>36</td>\n",
              "      <td>92</td>\n",
              "      <td>56</td>\n",
              "      <td>4</td>\n",
              "    </tr>\n",
              "    <tr>\n",
              "      <th>2</th>\n",
              "      <td>53</td>\n",
              "      <td>0</td>\n",
              "      <td>82</td>\n",
              "      <td>0</td>\n",
              "      <td>52</td>\n",
              "      <td>-5</td>\n",
              "      <td>29</td>\n",
              "      <td>30</td>\n",
              "      <td>2</td>\n",
              "      <td>1</td>\n",
              "    </tr>\n",
              "    <tr>\n",
              "      <th>3</th>\n",
              "      <td>37</td>\n",
              "      <td>0</td>\n",
              "      <td>76</td>\n",
              "      <td>0</td>\n",
              "      <td>28</td>\n",
              "      <td>18</td>\n",
              "      <td>40</td>\n",
              "      <td>48</td>\n",
              "      <td>8</td>\n",
              "      <td>1</td>\n",
              "    </tr>\n",
              "  </tbody>\n",
              "</table>\n",
              "</div>"
            ],
            "text/plain": [
              "    0   1   2  3   4   5   6   7   8  9\n",
              "0  50  21  77  0  28   0  27  48  22  2\n",
              "1  55   0  92  0   0  26  36  92  56  4\n",
              "2  53   0  82  0  52  -5  29  30   2  1\n",
              "3  37   0  76  0  28  18  40  48   8  1"
            ]
          },
          "metadata": {
            "tags": []
          },
          "execution_count": 119
        }
      ]
    },
    {
      "cell_type": "code",
      "metadata": {
        "colab": {
          "base_uri": "https://localhost:8080/",
          "height": 173
        },
        "id": "PhaqEcl4Tvd9",
        "outputId": "8a4af571-722b-4f38-f2b5-762ed07b508b"
      },
      "source": [
        "test = pd.read_csv('/content/shuttle.trn', delimiter =' ', header=None)\r\n",
        "test.head(4)"
      ],
      "execution_count": null,
      "outputs": [
        {
          "output_type": "execute_result",
          "data": {
            "text/html": [
              "<div>\n",
              "<style scoped>\n",
              "    .dataframe tbody tr th:only-of-type {\n",
              "        vertical-align: middle;\n",
              "    }\n",
              "\n",
              "    .dataframe tbody tr th {\n",
              "        vertical-align: top;\n",
              "    }\n",
              "\n",
              "    .dataframe thead th {\n",
              "        text-align: right;\n",
              "    }\n",
              "</style>\n",
              "<table border=\"1\" class=\"dataframe\">\n",
              "  <thead>\n",
              "    <tr style=\"text-align: right;\">\n",
              "      <th></th>\n",
              "      <th>0</th>\n",
              "      <th>1</th>\n",
              "      <th>2</th>\n",
              "      <th>3</th>\n",
              "      <th>4</th>\n",
              "      <th>5</th>\n",
              "      <th>6</th>\n",
              "      <th>7</th>\n",
              "      <th>8</th>\n",
              "      <th>9</th>\n",
              "    </tr>\n",
              "  </thead>\n",
              "  <tbody>\n",
              "    <tr>\n",
              "      <th>0</th>\n",
              "      <td>50</td>\n",
              "      <td>21</td>\n",
              "      <td>77</td>\n",
              "      <td>0</td>\n",
              "      <td>28</td>\n",
              "      <td>0</td>\n",
              "      <td>27</td>\n",
              "      <td>48</td>\n",
              "      <td>22</td>\n",
              "      <td>2</td>\n",
              "    </tr>\n",
              "    <tr>\n",
              "      <th>1</th>\n",
              "      <td>55</td>\n",
              "      <td>0</td>\n",
              "      <td>92</td>\n",
              "      <td>0</td>\n",
              "      <td>0</td>\n",
              "      <td>26</td>\n",
              "      <td>36</td>\n",
              "      <td>92</td>\n",
              "      <td>56</td>\n",
              "      <td>4</td>\n",
              "    </tr>\n",
              "    <tr>\n",
              "      <th>2</th>\n",
              "      <td>53</td>\n",
              "      <td>0</td>\n",
              "      <td>82</td>\n",
              "      <td>0</td>\n",
              "      <td>52</td>\n",
              "      <td>-5</td>\n",
              "      <td>29</td>\n",
              "      <td>30</td>\n",
              "      <td>2</td>\n",
              "      <td>1</td>\n",
              "    </tr>\n",
              "    <tr>\n",
              "      <th>3</th>\n",
              "      <td>37</td>\n",
              "      <td>0</td>\n",
              "      <td>76</td>\n",
              "      <td>0</td>\n",
              "      <td>28</td>\n",
              "      <td>18</td>\n",
              "      <td>40</td>\n",
              "      <td>48</td>\n",
              "      <td>8</td>\n",
              "      <td>1</td>\n",
              "    </tr>\n",
              "  </tbody>\n",
              "</table>\n",
              "</div>"
            ],
            "text/plain": [
              "    0   1   2  3   4   5   6   7   8  9\n",
              "0  50  21  77  0  28   0  27  48  22  2\n",
              "1  55   0  92  0   0  26  36  92  56  4\n",
              "2  53   0  82  0  52  -5  29  30   2  1\n",
              "3  37   0  76  0  28  18  40  48   8  1"
            ]
          },
          "metadata": {
            "tags": []
          },
          "execution_count": 120
        }
      ]
    },
    {
      "cell_type": "code",
      "metadata": {
        "id": "U2iKUYF3Tg3r"
      },
      "source": [
        "x_train, y_train = df.iloc[:,0:-1], df.iloc[:,-1]\r\n",
        "x_teste, y_teste = df.iloc[:,0:-1], df.iloc[:,-1] \r\n",
        "\r\n",
        "train_y = np.array(y_train).reshape(-1, 1) # Convert data to a single column\r\n",
        "test_y = np.array(y_teste).reshape(-1, 1) # Convert data to a single column\r\n",
        "\r\n",
        "train_x = norm(np.array(x_train))\r\n",
        "test_x = norm(np.array(x_teste))\r\n",
        "# One Hot encode the class labels\r\n",
        "\r\n",
        "encoder = OneHotEncoder(sparse=False)\r\n",
        "train_y = encoder.fit_transform(train_y)\r\n",
        "test_y = encoder.fit_transform(test_y)"
      ],
      "execution_count": null,
      "outputs": []
    },
    {
      "cell_type": "code",
      "metadata": {
        "colab": {
          "base_uri": "https://localhost:8080/"
        },
        "id": "6pGfNJNDTg3r",
        "outputId": "991ece55-fc92-436e-a40a-f93f8eb5e08c"
      },
      "source": [
        "# creating an classifier from the model:\r\n",
        "# optimizer = SGD(learning_rate=0.01, momentum=0.9)\r\n",
        "optimizer =  Adam(lr=0.001)\r\n",
        "\r\n",
        "mlp = MLP(optimizer, len(test_x[0]), 100, 100, len(test_y[0]))\r\n",
        "mlp.train_model( train_x,  train_y, epoch=200, batchSize=5, verbose=0)\r\n",
        "mlp.test_model(test_x, test_y)"
      ],
      "execution_count": null,
      "outputs": [
        {
          "output_type": "stream",
          "text": [
            "Neural Network Model Summary: \n",
            "Model: \"sequential_13\"\n",
            "_________________________________________________________________\n",
            "Layer (type)                 Output Shape              Param #   \n",
            "=================================================================\n",
            "1 (Dense)                    (None, 100)               1200      \n",
            "_________________________________________________________________\n",
            "2 (Dense)                    (None, 100)               10100     \n",
            "_________________________________________________________________\n",
            "out_layer (Dense)            (None, 7)                 707       \n",
            "=================================================================\n",
            "Total params: 12,007\n",
            "Trainable params: 12,007\n",
            "Non-trainable params: 0\n",
            "_________________________________________________________________\n",
            "None\n",
            "154/154 [==============================] - 0s 1ms/step - loss: 0.0445 - accuracy: 0.8120\n"
          ],
          "name": "stdout"
        }
      ]
    },
    {
      "cell_type": "markdown",
      "metadata": {
        "id": "hvpuhA4AWZpo"
      },
      "source": [
        "# Poker"
      ]
    },
    {
      "cell_type": "code",
      "metadata": {
        "colab": {
          "base_uri": "https://localhost:8080/",
          "height": 173
        },
        "id": "4xEU3-HcWZqM",
        "outputId": "6ae97e37-dfc4-48af-9fb8-95b16b18011d"
      },
      "source": [
        "train = pd.read_csv('/content/poker-hand-training-true.data', delimiter =',', header=None)\r\n",
        "train.head(4)"
      ],
      "execution_count": null,
      "outputs": [
        {
          "output_type": "execute_result",
          "data": {
            "text/html": [
              "<div>\n",
              "<style scoped>\n",
              "    .dataframe tbody tr th:only-of-type {\n",
              "        vertical-align: middle;\n",
              "    }\n",
              "\n",
              "    .dataframe tbody tr th {\n",
              "        vertical-align: top;\n",
              "    }\n",
              "\n",
              "    .dataframe thead th {\n",
              "        text-align: right;\n",
              "    }\n",
              "</style>\n",
              "<table border=\"1\" class=\"dataframe\">\n",
              "  <thead>\n",
              "    <tr style=\"text-align: right;\">\n",
              "      <th></th>\n",
              "      <th>0</th>\n",
              "      <th>1</th>\n",
              "      <th>2</th>\n",
              "      <th>3</th>\n",
              "      <th>4</th>\n",
              "      <th>5</th>\n",
              "      <th>6</th>\n",
              "      <th>7</th>\n",
              "      <th>8</th>\n",
              "      <th>9</th>\n",
              "      <th>10</th>\n",
              "    </tr>\n",
              "  </thead>\n",
              "  <tbody>\n",
              "    <tr>\n",
              "      <th>0</th>\n",
              "      <td>1</td>\n",
              "      <td>10</td>\n",
              "      <td>1</td>\n",
              "      <td>11</td>\n",
              "      <td>1</td>\n",
              "      <td>13</td>\n",
              "      <td>1</td>\n",
              "      <td>12</td>\n",
              "      <td>1</td>\n",
              "      <td>1</td>\n",
              "      <td>9</td>\n",
              "    </tr>\n",
              "    <tr>\n",
              "      <th>1</th>\n",
              "      <td>2</td>\n",
              "      <td>11</td>\n",
              "      <td>2</td>\n",
              "      <td>13</td>\n",
              "      <td>2</td>\n",
              "      <td>10</td>\n",
              "      <td>2</td>\n",
              "      <td>12</td>\n",
              "      <td>2</td>\n",
              "      <td>1</td>\n",
              "      <td>9</td>\n",
              "    </tr>\n",
              "    <tr>\n",
              "      <th>2</th>\n",
              "      <td>3</td>\n",
              "      <td>12</td>\n",
              "      <td>3</td>\n",
              "      <td>11</td>\n",
              "      <td>3</td>\n",
              "      <td>13</td>\n",
              "      <td>3</td>\n",
              "      <td>10</td>\n",
              "      <td>3</td>\n",
              "      <td>1</td>\n",
              "      <td>9</td>\n",
              "    </tr>\n",
              "    <tr>\n",
              "      <th>3</th>\n",
              "      <td>4</td>\n",
              "      <td>10</td>\n",
              "      <td>4</td>\n",
              "      <td>11</td>\n",
              "      <td>4</td>\n",
              "      <td>1</td>\n",
              "      <td>4</td>\n",
              "      <td>13</td>\n",
              "      <td>4</td>\n",
              "      <td>12</td>\n",
              "      <td>9</td>\n",
              "    </tr>\n",
              "  </tbody>\n",
              "</table>\n",
              "</div>"
            ],
            "text/plain": [
              "   0   1   2   3   4   5   6   7   8   9   10\n",
              "0   1  10   1  11   1  13   1  12   1   1   9\n",
              "1   2  11   2  13   2  10   2  12   2   1   9\n",
              "2   3  12   3  11   3  13   3  10   3   1   9\n",
              "3   4  10   4  11   4   1   4  13   4  12   9"
            ]
          },
          "metadata": {
            "tags": []
          },
          "execution_count": 123
        }
      ]
    },
    {
      "cell_type": "code",
      "metadata": {
        "colab": {
          "base_uri": "https://localhost:8080/",
          "height": 173
        },
        "id": "t-fE2zOTWZqO",
        "outputId": "b621281f-34aa-4411-c5f2-10e38276e0ee"
      },
      "source": [
        "test = pd.read_csv('/content/poker-hand-testing.data', delimiter =',', header=None)\r\n",
        "test.head(4)"
      ],
      "execution_count": null,
      "outputs": [
        {
          "output_type": "execute_result",
          "data": {
            "text/html": [
              "<div>\n",
              "<style scoped>\n",
              "    .dataframe tbody tr th:only-of-type {\n",
              "        vertical-align: middle;\n",
              "    }\n",
              "\n",
              "    .dataframe tbody tr th {\n",
              "        vertical-align: top;\n",
              "    }\n",
              "\n",
              "    .dataframe thead th {\n",
              "        text-align: right;\n",
              "    }\n",
              "</style>\n",
              "<table border=\"1\" class=\"dataframe\">\n",
              "  <thead>\n",
              "    <tr style=\"text-align: right;\">\n",
              "      <th></th>\n",
              "      <th>0</th>\n",
              "      <th>1</th>\n",
              "      <th>2</th>\n",
              "      <th>3</th>\n",
              "      <th>4</th>\n",
              "      <th>5</th>\n",
              "      <th>6</th>\n",
              "      <th>7</th>\n",
              "      <th>8</th>\n",
              "      <th>9</th>\n",
              "      <th>10</th>\n",
              "    </tr>\n",
              "  </thead>\n",
              "  <tbody>\n",
              "    <tr>\n",
              "      <th>0</th>\n",
              "      <td>1</td>\n",
              "      <td>1</td>\n",
              "      <td>1</td>\n",
              "      <td>13</td>\n",
              "      <td>2</td>\n",
              "      <td>4</td>\n",
              "      <td>2</td>\n",
              "      <td>3</td>\n",
              "      <td>1</td>\n",
              "      <td>12</td>\n",
              "      <td>0.0</td>\n",
              "    </tr>\n",
              "    <tr>\n",
              "      <th>1</th>\n",
              "      <td>3</td>\n",
              "      <td>12</td>\n",
              "      <td>3</td>\n",
              "      <td>2</td>\n",
              "      <td>3</td>\n",
              "      <td>11</td>\n",
              "      <td>4</td>\n",
              "      <td>5</td>\n",
              "      <td>2</td>\n",
              "      <td>5</td>\n",
              "      <td>1.0</td>\n",
              "    </tr>\n",
              "    <tr>\n",
              "      <th>2</th>\n",
              "      <td>1</td>\n",
              "      <td>9</td>\n",
              "      <td>4</td>\n",
              "      <td>6</td>\n",
              "      <td>1</td>\n",
              "      <td>4</td>\n",
              "      <td>3</td>\n",
              "      <td>2</td>\n",
              "      <td>3</td>\n",
              "      <td>9</td>\n",
              "      <td>1.0</td>\n",
              "    </tr>\n",
              "    <tr>\n",
              "      <th>3</th>\n",
              "      <td>1</td>\n",
              "      <td>4</td>\n",
              "      <td>3</td>\n",
              "      <td>13</td>\n",
              "      <td>2</td>\n",
              "      <td>13</td>\n",
              "      <td>2</td>\n",
              "      <td>1</td>\n",
              "      <td>3</td>\n",
              "      <td>6</td>\n",
              "      <td>1.0</td>\n",
              "    </tr>\n",
              "  </tbody>\n",
              "</table>\n",
              "</div>"
            ],
            "text/plain": [
              "   0   1   2   3   4   5   6   7   8   9    10\n",
              "0   1   1   1  13   2   4   2   3   1  12  0.0\n",
              "1   3  12   3   2   3  11   4   5   2   5  1.0\n",
              "2   1   9   4   6   1   4   3   2   3   9  1.0\n",
              "3   1   4   3  13   2  13   2   1   3   6  1.0"
            ]
          },
          "metadata": {
            "tags": []
          },
          "execution_count": 124
        }
      ]
    },
    {
      "cell_type": "code",
      "metadata": {
        "id": "rNlHwFBYWZqP"
      },
      "source": [
        "x_train, y_train = df.iloc[:,0:-1], df.iloc[:,-1]\r\n",
        "x_teste, y_teste = df.iloc[:,0:-1], df.iloc[:,-1] \r\n",
        "\r\n",
        "train_y = np.array(y_train).reshape(-1, 1) # Convert data to a single column\r\n",
        "test_y = np.array(y_teste).reshape(-1, 1) # Convert data to a single column\r\n",
        "\r\n",
        "train_x = norm(np.array(x_train))\r\n",
        "test_x = norm(np.array(x_teste))\r\n",
        "# One Hot encode the class labels\r\n",
        "\r\n",
        "encoder = OneHotEncoder(sparse=False)\r\n",
        "train_y = encoder.fit_transform(train_y)\r\n",
        "test_y = encoder.fit_transform(test_y)"
      ],
      "execution_count": null,
      "outputs": []
    },
    {
      "cell_type": "code",
      "metadata": {
        "colab": {
          "base_uri": "https://localhost:8080/"
        },
        "id": "ZshS2CjzWZqQ",
        "outputId": "ab2c2c9a-3b0b-4f2a-f82e-0fcce54612ba"
      },
      "source": [
        "# creating an classifier from the model:\r\n",
        "# optimizer = SGD(learning_rate=0.01, momentum=0.9)\r\n",
        "optimizer =  Adam(lr=0.001)\r\n",
        "\r\n",
        "mlp = MLP(optimizer, len(test_x[0]), 100, 100, len(test_y[0]))\r\n",
        "mlp.train_model( train_x,  train_y, epoch=200, batchSize=5, verbose=0)\r\n",
        "mlp.test_model(test_x, test_y)"
      ],
      "execution_count": null,
      "outputs": [
        {
          "output_type": "stream",
          "text": [
            "Neural Network Model Summary: \n",
            "Model: \"sequential_14\"\n",
            "_________________________________________________________________\n",
            "Layer (type)                 Output Shape              Param #   \n",
            "=================================================================\n",
            "1 (Dense)                    (None, 100)               1200      \n",
            "_________________________________________________________________\n",
            "2 (Dense)                    (None, 100)               10100     \n",
            "_________________________________________________________________\n",
            "out_layer (Dense)            (None, 7)                 707       \n",
            "=================================================================\n",
            "Total params: 12,007\n",
            "Trainable params: 12,007\n",
            "Non-trainable params: 0\n",
            "_________________________________________________________________\n",
            "None\n",
            "154/154 [==============================] - 0s 1ms/step - loss: 0.0447 - accuracy: 0.8030\n"
          ],
          "name": "stdout"
        }
      ]
    },
    {
      "cell_type": "markdown",
      "metadata": {
        "id": "jHbhQNZiXqdb"
      },
      "source": [
        "# Chess (King-Rook vs. King) "
      ]
    },
    {
      "cell_type": "code",
      "metadata": {
        "colab": {
          "base_uri": "https://localhost:8080/"
        },
        "id": "BK6fYBOLYgSO",
        "outputId": "c98a399f-c60b-4240-e92b-ae1f64d6c5ae"
      },
      "source": [
        "df = pd.read_csv('/content/krkopt.data', delimiter =',', header=None)\r\n",
        "df.head(4)"
      ],
      "execution_count": null,
      "outputs": [
        {
          "output_type": "execute_result",
          "data": {
            "text/html": [
              "<div>\n",
              "<style scoped>\n",
              "    .dataframe tbody tr th:only-of-type {\n",
              "        vertical-align: middle;\n",
              "    }\n",
              "\n",
              "    .dataframe tbody tr th {\n",
              "        vertical-align: top;\n",
              "    }\n",
              "\n",
              "    .dataframe thead th {\n",
              "        text-align: right;\n",
              "    }\n",
              "</style>\n",
              "<table border=\"1\" class=\"dataframe\">\n",
              "  <thead>\n",
              "    <tr style=\"text-align: right;\">\n",
              "      <th></th>\n",
              "      <th>0</th>\n",
              "      <th>1</th>\n",
              "      <th>2</th>\n",
              "      <th>3</th>\n",
              "      <th>4</th>\n",
              "      <th>5</th>\n",
              "      <th>6</th>\n",
              "    </tr>\n",
              "  </thead>\n",
              "  <tbody>\n",
              "    <tr>\n",
              "      <th>0</th>\n",
              "      <td>a</td>\n",
              "      <td>1</td>\n",
              "      <td>b</td>\n",
              "      <td>3</td>\n",
              "      <td>c</td>\n",
              "      <td>2</td>\n",
              "      <td>draw</td>\n",
              "    </tr>\n",
              "    <tr>\n",
              "      <th>1</th>\n",
              "      <td>a</td>\n",
              "      <td>1</td>\n",
              "      <td>c</td>\n",
              "      <td>1</td>\n",
              "      <td>c</td>\n",
              "      <td>2</td>\n",
              "      <td>draw</td>\n",
              "    </tr>\n",
              "    <tr>\n",
              "      <th>2</th>\n",
              "      <td>a</td>\n",
              "      <td>1</td>\n",
              "      <td>c</td>\n",
              "      <td>1</td>\n",
              "      <td>d</td>\n",
              "      <td>1</td>\n",
              "      <td>draw</td>\n",
              "    </tr>\n",
              "    <tr>\n",
              "      <th>3</th>\n",
              "      <td>a</td>\n",
              "      <td>1</td>\n",
              "      <td>c</td>\n",
              "      <td>1</td>\n",
              "      <td>d</td>\n",
              "      <td>2</td>\n",
              "      <td>draw</td>\n",
              "    </tr>\n",
              "  </tbody>\n",
              "</table>\n",
              "</div>"
            ],
            "text/plain": [
              "   0  1  2  3  4  5     6\n",
              "0  a  1  b  3  c  2  draw\n",
              "1  a  1  c  1  c  2  draw\n",
              "2  a  1  c  1  d  1  draw\n",
              "3  a  1  c  1  d  2  draw"
            ]
          },
          "metadata": {
            "tags": []
          },
          "execution_count": 139
        }
      ]
    },
    {
      "cell_type": "code",
      "metadata": {
        "id": "VqR3bt4vYgST"
      },
      "source": [
        "df = MultiColumnLabelEncoder(columns = [0, 2,  4,  6]).fit_transform(df)"
      ],
      "execution_count": null,
      "outputs": []
    },
    {
      "cell_type": "code",
      "metadata": {
        "id": "plQg3d0JYgSU"
      },
      "source": [
        "x, y = df.iloc[:,0:-1], df.iloc[:,-1] \r\n",
        "\r\n",
        "y = np.array(y).reshape(-1, 1) # Convert data to a single column\r\n",
        "x = norm(np.array(x))\r\n",
        "# One Hot encode the class labels\r\n",
        "encoder = OneHotEncoder(sparse=False)\r\n",
        "y = encoder.fit_transform(y)\r\n",
        "#print(y)\r\n",
        "# Split the data for training and testing\r\n",
        "train_x, test_x, train_y, test_y = train_test_split(x, y, test_size=0.20)\r\n"
      ],
      "execution_count": null,
      "outputs": []
    },
    {
      "cell_type": "code",
      "metadata": {
        "colab": {
          "base_uri": "https://localhost:8080/"
        },
        "id": "3lkvTJ60YgSV",
        "outputId": "65401248-6689-4cf4-c36a-c06be07ee3ae"
      },
      "source": [
        "# creating an classifier from the model:\r\n",
        "# optimizer = SGD(learning_rate=0.01, momentum=0.9)\r\n",
        "optimizer =  Adam(lr=0.001)\r\n",
        "\r\n",
        "mlp = MLP(optimizer, len(test_x[0]), 100, 100, len(test_y[0]))\r\n",
        "mlp.train_model( train_x,  train_y, epoch=200, batchSize=5, verbose=0)\r\n",
        "mlp.test_model(test_x, test_y)"
      ],
      "execution_count": null,
      "outputs": [
        {
          "output_type": "stream",
          "text": [
            "Neural Network Model Summary: \n",
            "Model: \"sequential_16\"\n",
            "_________________________________________________________________\n",
            "Layer (type)                 Output Shape              Param #   \n",
            "=================================================================\n",
            "1 (Dense)                    (None, 100)               700       \n",
            "_________________________________________________________________\n",
            "2 (Dense)                    (None, 100)               10100     \n",
            "_________________________________________________________________\n",
            "out_layer (Dense)            (None, 18)                1818      \n",
            "=================================================================\n",
            "Total params: 12,618\n",
            "Trainable params: 12,618\n",
            "Non-trainable params: 0\n",
            "_________________________________________________________________\n",
            "None\n"
          ],
          "name": "stdout"
        }
      ]
    }
  ]
}